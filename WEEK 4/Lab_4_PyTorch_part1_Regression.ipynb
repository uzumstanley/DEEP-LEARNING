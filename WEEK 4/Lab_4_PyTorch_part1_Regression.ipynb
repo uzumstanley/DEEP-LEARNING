{
  "nbformat": 4,
  "nbformat_minor": 0,
  "metadata": {
    "colab": {
      "provenance": [],
      "gpuType": "T4"
    },
    "kernelspec": {
      "name": "python3",
      "display_name": "Python 3"
    },
    "widgets": {
      "application/vnd.jupyter.widget-state+json": {
        "0fcf8574fe2b44c5ba4670263fddcd30": {
          "model_module": "@jupyter-widgets/controls",
          "model_name": "HBoxModel",
          "model_module_version": "1.5.0",
          "state": {
            "_dom_classes": [],
            "_model_module": "@jupyter-widgets/controls",
            "_model_module_version": "1.5.0",
            "_model_name": "HBoxModel",
            "_view_count": null,
            "_view_module": "@jupyter-widgets/controls",
            "_view_module_version": "1.5.0",
            "_view_name": "HBoxView",
            "box_style": "",
            "children": [
              "IPY_MODEL_f47f9bfe33994b0fbdd88c2d703291f3",
              "IPY_MODEL_e22fb9a0f0b142b0b5a53fc374050773",
              "IPY_MODEL_c0c47466e7354e6fa54eed86363d42b8"
            ],
            "layout": "IPY_MODEL_9415be8215c1461091a03976a5fa58f5"
          }
        },
        "f47f9bfe33994b0fbdd88c2d703291f3": {
          "model_module": "@jupyter-widgets/controls",
          "model_name": "HTMLModel",
          "model_module_version": "1.5.0",
          "state": {
            "_dom_classes": [],
            "_model_module": "@jupyter-widgets/controls",
            "_model_module_version": "1.5.0",
            "_model_name": "HTMLModel",
            "_view_count": null,
            "_view_module": "@jupyter-widgets/controls",
            "_view_module_version": "1.5.0",
            "_view_name": "HTMLView",
            "description": "",
            "description_tooltip": null,
            "layout": "IPY_MODEL_e1bac88e5c514b93aec230fcd3519be8",
            "placeholder": "​",
            "style": "IPY_MODEL_05b54b76952e49ac8f6be6cc5de8e6fc",
            "value": "Loss: 0.2018: 100%"
          }
        },
        "e22fb9a0f0b142b0b5a53fc374050773": {
          "model_module": "@jupyter-widgets/controls",
          "model_name": "FloatProgressModel",
          "model_module_version": "1.5.0",
          "state": {
            "_dom_classes": [],
            "_model_module": "@jupyter-widgets/controls",
            "_model_module_version": "1.5.0",
            "_model_name": "FloatProgressModel",
            "_view_count": null,
            "_view_module": "@jupyter-widgets/controls",
            "_view_module_version": "1.5.0",
            "_view_name": "ProgressView",
            "bar_style": "success",
            "description": "",
            "description_tooltip": null,
            "layout": "IPY_MODEL_a19e4de9eb694d70b8f368b8b2ae8c3c",
            "max": 10000,
            "min": 0,
            "orientation": "horizontal",
            "style": "IPY_MODEL_093808b95e2e4570aefe5c24131a2652",
            "value": 10000
          }
        },
        "c0c47466e7354e6fa54eed86363d42b8": {
          "model_module": "@jupyter-widgets/controls",
          "model_name": "HTMLModel",
          "model_module_version": "1.5.0",
          "state": {
            "_dom_classes": [],
            "_model_module": "@jupyter-widgets/controls",
            "_model_module_version": "1.5.0",
            "_model_name": "HTMLModel",
            "_view_count": null,
            "_view_module": "@jupyter-widgets/controls",
            "_view_module_version": "1.5.0",
            "_view_name": "HTMLView",
            "description": "",
            "description_tooltip": null,
            "layout": "IPY_MODEL_781be9ee38664ca096392e52b0e216f3",
            "placeholder": "​",
            "style": "IPY_MODEL_a0763174b6514db2b9585a5eb45c4561",
            "value": " 10000/10000 [00:02&lt;00:00, 4936.11it/s]"
          }
        },
        "9415be8215c1461091a03976a5fa58f5": {
          "model_module": "@jupyter-widgets/base",
          "model_name": "LayoutModel",
          "model_module_version": "1.2.0",
          "state": {
            "_model_module": "@jupyter-widgets/base",
            "_model_module_version": "1.2.0",
            "_model_name": "LayoutModel",
            "_view_count": null,
            "_view_module": "@jupyter-widgets/base",
            "_view_module_version": "1.2.0",
            "_view_name": "LayoutView",
            "align_content": null,
            "align_items": null,
            "align_self": null,
            "border": null,
            "bottom": null,
            "display": null,
            "flex": null,
            "flex_flow": null,
            "grid_area": null,
            "grid_auto_columns": null,
            "grid_auto_flow": null,
            "grid_auto_rows": null,
            "grid_column": null,
            "grid_gap": null,
            "grid_row": null,
            "grid_template_areas": null,
            "grid_template_columns": null,
            "grid_template_rows": null,
            "height": null,
            "justify_content": null,
            "justify_items": null,
            "left": null,
            "margin": null,
            "max_height": null,
            "max_width": null,
            "min_height": null,
            "min_width": null,
            "object_fit": null,
            "object_position": null,
            "order": null,
            "overflow": null,
            "overflow_x": null,
            "overflow_y": null,
            "padding": null,
            "right": null,
            "top": null,
            "visibility": null,
            "width": null
          }
        },
        "e1bac88e5c514b93aec230fcd3519be8": {
          "model_module": "@jupyter-widgets/base",
          "model_name": "LayoutModel",
          "model_module_version": "1.2.0",
          "state": {
            "_model_module": "@jupyter-widgets/base",
            "_model_module_version": "1.2.0",
            "_model_name": "LayoutModel",
            "_view_count": null,
            "_view_module": "@jupyter-widgets/base",
            "_view_module_version": "1.2.0",
            "_view_name": "LayoutView",
            "align_content": null,
            "align_items": null,
            "align_self": null,
            "border": null,
            "bottom": null,
            "display": null,
            "flex": null,
            "flex_flow": null,
            "grid_area": null,
            "grid_auto_columns": null,
            "grid_auto_flow": null,
            "grid_auto_rows": null,
            "grid_column": null,
            "grid_gap": null,
            "grid_row": null,
            "grid_template_areas": null,
            "grid_template_columns": null,
            "grid_template_rows": null,
            "height": null,
            "justify_content": null,
            "justify_items": null,
            "left": null,
            "margin": null,
            "max_height": null,
            "max_width": null,
            "min_height": null,
            "min_width": null,
            "object_fit": null,
            "object_position": null,
            "order": null,
            "overflow": null,
            "overflow_x": null,
            "overflow_y": null,
            "padding": null,
            "right": null,
            "top": null,
            "visibility": null,
            "width": null
          }
        },
        "05b54b76952e49ac8f6be6cc5de8e6fc": {
          "model_module": "@jupyter-widgets/controls",
          "model_name": "DescriptionStyleModel",
          "model_module_version": "1.5.0",
          "state": {
            "_model_module": "@jupyter-widgets/controls",
            "_model_module_version": "1.5.0",
            "_model_name": "DescriptionStyleModel",
            "_view_count": null,
            "_view_module": "@jupyter-widgets/base",
            "_view_module_version": "1.2.0",
            "_view_name": "StyleView",
            "description_width": ""
          }
        },
        "a19e4de9eb694d70b8f368b8b2ae8c3c": {
          "model_module": "@jupyter-widgets/base",
          "model_name": "LayoutModel",
          "model_module_version": "1.2.0",
          "state": {
            "_model_module": "@jupyter-widgets/base",
            "_model_module_version": "1.2.0",
            "_model_name": "LayoutModel",
            "_view_count": null,
            "_view_module": "@jupyter-widgets/base",
            "_view_module_version": "1.2.0",
            "_view_name": "LayoutView",
            "align_content": null,
            "align_items": null,
            "align_self": null,
            "border": null,
            "bottom": null,
            "display": null,
            "flex": null,
            "flex_flow": null,
            "grid_area": null,
            "grid_auto_columns": null,
            "grid_auto_flow": null,
            "grid_auto_rows": null,
            "grid_column": null,
            "grid_gap": null,
            "grid_row": null,
            "grid_template_areas": null,
            "grid_template_columns": null,
            "grid_template_rows": null,
            "height": null,
            "justify_content": null,
            "justify_items": null,
            "left": null,
            "margin": null,
            "max_height": null,
            "max_width": null,
            "min_height": null,
            "min_width": null,
            "object_fit": null,
            "object_position": null,
            "order": null,
            "overflow": null,
            "overflow_x": null,
            "overflow_y": null,
            "padding": null,
            "right": null,
            "top": null,
            "visibility": null,
            "width": null
          }
        },
        "093808b95e2e4570aefe5c24131a2652": {
          "model_module": "@jupyter-widgets/controls",
          "model_name": "ProgressStyleModel",
          "model_module_version": "1.5.0",
          "state": {
            "_model_module": "@jupyter-widgets/controls",
            "_model_module_version": "1.5.0",
            "_model_name": "ProgressStyleModel",
            "_view_count": null,
            "_view_module": "@jupyter-widgets/base",
            "_view_module_version": "1.2.0",
            "_view_name": "StyleView",
            "bar_color": null,
            "description_width": ""
          }
        },
        "781be9ee38664ca096392e52b0e216f3": {
          "model_module": "@jupyter-widgets/base",
          "model_name": "LayoutModel",
          "model_module_version": "1.2.0",
          "state": {
            "_model_module": "@jupyter-widgets/base",
            "_model_module_version": "1.2.0",
            "_model_name": "LayoutModel",
            "_view_count": null,
            "_view_module": "@jupyter-widgets/base",
            "_view_module_version": "1.2.0",
            "_view_name": "LayoutView",
            "align_content": null,
            "align_items": null,
            "align_self": null,
            "border": null,
            "bottom": null,
            "display": null,
            "flex": null,
            "flex_flow": null,
            "grid_area": null,
            "grid_auto_columns": null,
            "grid_auto_flow": null,
            "grid_auto_rows": null,
            "grid_column": null,
            "grid_gap": null,
            "grid_row": null,
            "grid_template_areas": null,
            "grid_template_columns": null,
            "grid_template_rows": null,
            "height": null,
            "justify_content": null,
            "justify_items": null,
            "left": null,
            "margin": null,
            "max_height": null,
            "max_width": null,
            "min_height": null,
            "min_width": null,
            "object_fit": null,
            "object_position": null,
            "order": null,
            "overflow": null,
            "overflow_x": null,
            "overflow_y": null,
            "padding": null,
            "right": null,
            "top": null,
            "visibility": null,
            "width": null
          }
        },
        "a0763174b6514db2b9585a5eb45c4561": {
          "model_module": "@jupyter-widgets/controls",
          "model_name": "DescriptionStyleModel",
          "model_module_version": "1.5.0",
          "state": {
            "_model_module": "@jupyter-widgets/controls",
            "_model_module_version": "1.5.0",
            "_model_name": "DescriptionStyleModel",
            "_view_count": null,
            "_view_module": "@jupyter-widgets/base",
            "_view_module_version": "1.2.0",
            "_view_name": "StyleView",
            "description_width": ""
          }
        },
        "91f502d7828744ffa8d56cc62c7ebbdb": {
          "model_module": "@jupyter-widgets/controls",
          "model_name": "HBoxModel",
          "model_module_version": "1.5.0",
          "state": {
            "_dom_classes": [],
            "_model_module": "@jupyter-widgets/controls",
            "_model_module_version": "1.5.0",
            "_model_name": "HBoxModel",
            "_view_count": null,
            "_view_module": "@jupyter-widgets/controls",
            "_view_module_version": "1.5.0",
            "_view_name": "HBoxView",
            "box_style": "",
            "children": [
              "IPY_MODEL_c2ebcb97458d4fc89f6e3979591529c4",
              "IPY_MODEL_4c4f94d598ab4fbf90d4c0cb526ed57a",
              "IPY_MODEL_d4d28e8f0ecb49e7ad05b87880a3a705"
            ],
            "layout": "IPY_MODEL_85491226e4ac48e28d5961e0520ce0f4"
          }
        },
        "c2ebcb97458d4fc89f6e3979591529c4": {
          "model_module": "@jupyter-widgets/controls",
          "model_name": "HTMLModel",
          "model_module_version": "1.5.0",
          "state": {
            "_dom_classes": [],
            "_model_module": "@jupyter-widgets/controls",
            "_model_module_version": "1.5.0",
            "_model_name": "HTMLModel",
            "_view_count": null,
            "_view_module": "@jupyter-widgets/controls",
            "_view_module_version": "1.5.0",
            "_view_name": "HTMLView",
            "description": "",
            "description_tooltip": null,
            "layout": "IPY_MODEL_fd845fa7fe284291812c72ddbb82e476",
            "placeholder": "​",
            "style": "IPY_MODEL_e1c0f8a93a5249d88c1ac6e5b2ac2362",
            "value": "Loss: 0.2398: 100%"
          }
        },
        "4c4f94d598ab4fbf90d4c0cb526ed57a": {
          "model_module": "@jupyter-widgets/controls",
          "model_name": "FloatProgressModel",
          "model_module_version": "1.5.0",
          "state": {
            "_dom_classes": [],
            "_model_module": "@jupyter-widgets/controls",
            "_model_module_version": "1.5.0",
            "_model_name": "FloatProgressModel",
            "_view_count": null,
            "_view_module": "@jupyter-widgets/controls",
            "_view_module_version": "1.5.0",
            "_view_name": "ProgressView",
            "bar_style": "success",
            "description": "",
            "description_tooltip": null,
            "layout": "IPY_MODEL_a631e0494983478993fbd7f381b936ac",
            "max": 10000,
            "min": 0,
            "orientation": "horizontal",
            "style": "IPY_MODEL_c8b3736f610b4c0e927b96751d859ca0",
            "value": 10000
          }
        },
        "d4d28e8f0ecb49e7ad05b87880a3a705": {
          "model_module": "@jupyter-widgets/controls",
          "model_name": "HTMLModel",
          "model_module_version": "1.5.0",
          "state": {
            "_dom_classes": [],
            "_model_module": "@jupyter-widgets/controls",
            "_model_module_version": "1.5.0",
            "_model_name": "HTMLModel",
            "_view_count": null,
            "_view_module": "@jupyter-widgets/controls",
            "_view_module_version": "1.5.0",
            "_view_name": "HTMLView",
            "description": "",
            "description_tooltip": null,
            "layout": "IPY_MODEL_c3023055a295490e83dfce3b16963db8",
            "placeholder": "​",
            "style": "IPY_MODEL_9c3b4ff451c349e190e93a0d83bef321",
            "value": " 10000/10000 [00:04&lt;00:00, 2563.74it/s]"
          }
        },
        "85491226e4ac48e28d5961e0520ce0f4": {
          "model_module": "@jupyter-widgets/base",
          "model_name": "LayoutModel",
          "model_module_version": "1.2.0",
          "state": {
            "_model_module": "@jupyter-widgets/base",
            "_model_module_version": "1.2.0",
            "_model_name": "LayoutModel",
            "_view_count": null,
            "_view_module": "@jupyter-widgets/base",
            "_view_module_version": "1.2.0",
            "_view_name": "LayoutView",
            "align_content": null,
            "align_items": null,
            "align_self": null,
            "border": null,
            "bottom": null,
            "display": null,
            "flex": null,
            "flex_flow": null,
            "grid_area": null,
            "grid_auto_columns": null,
            "grid_auto_flow": null,
            "grid_auto_rows": null,
            "grid_column": null,
            "grid_gap": null,
            "grid_row": null,
            "grid_template_areas": null,
            "grid_template_columns": null,
            "grid_template_rows": null,
            "height": null,
            "justify_content": null,
            "justify_items": null,
            "left": null,
            "margin": null,
            "max_height": null,
            "max_width": null,
            "min_height": null,
            "min_width": null,
            "object_fit": null,
            "object_position": null,
            "order": null,
            "overflow": null,
            "overflow_x": null,
            "overflow_y": null,
            "padding": null,
            "right": null,
            "top": null,
            "visibility": null,
            "width": null
          }
        },
        "fd845fa7fe284291812c72ddbb82e476": {
          "model_module": "@jupyter-widgets/base",
          "model_name": "LayoutModel",
          "model_module_version": "1.2.0",
          "state": {
            "_model_module": "@jupyter-widgets/base",
            "_model_module_version": "1.2.0",
            "_model_name": "LayoutModel",
            "_view_count": null,
            "_view_module": "@jupyter-widgets/base",
            "_view_module_version": "1.2.0",
            "_view_name": "LayoutView",
            "align_content": null,
            "align_items": null,
            "align_self": null,
            "border": null,
            "bottom": null,
            "display": null,
            "flex": null,
            "flex_flow": null,
            "grid_area": null,
            "grid_auto_columns": null,
            "grid_auto_flow": null,
            "grid_auto_rows": null,
            "grid_column": null,
            "grid_gap": null,
            "grid_row": null,
            "grid_template_areas": null,
            "grid_template_columns": null,
            "grid_template_rows": null,
            "height": null,
            "justify_content": null,
            "justify_items": null,
            "left": null,
            "margin": null,
            "max_height": null,
            "max_width": null,
            "min_height": null,
            "min_width": null,
            "object_fit": null,
            "object_position": null,
            "order": null,
            "overflow": null,
            "overflow_x": null,
            "overflow_y": null,
            "padding": null,
            "right": null,
            "top": null,
            "visibility": null,
            "width": null
          }
        },
        "e1c0f8a93a5249d88c1ac6e5b2ac2362": {
          "model_module": "@jupyter-widgets/controls",
          "model_name": "DescriptionStyleModel",
          "model_module_version": "1.5.0",
          "state": {
            "_model_module": "@jupyter-widgets/controls",
            "_model_module_version": "1.5.0",
            "_model_name": "DescriptionStyleModel",
            "_view_count": null,
            "_view_module": "@jupyter-widgets/base",
            "_view_module_version": "1.2.0",
            "_view_name": "StyleView",
            "description_width": ""
          }
        },
        "a631e0494983478993fbd7f381b936ac": {
          "model_module": "@jupyter-widgets/base",
          "model_name": "LayoutModel",
          "model_module_version": "1.2.0",
          "state": {
            "_model_module": "@jupyter-widgets/base",
            "_model_module_version": "1.2.0",
            "_model_name": "LayoutModel",
            "_view_count": null,
            "_view_module": "@jupyter-widgets/base",
            "_view_module_version": "1.2.0",
            "_view_name": "LayoutView",
            "align_content": null,
            "align_items": null,
            "align_self": null,
            "border": null,
            "bottom": null,
            "display": null,
            "flex": null,
            "flex_flow": null,
            "grid_area": null,
            "grid_auto_columns": null,
            "grid_auto_flow": null,
            "grid_auto_rows": null,
            "grid_column": null,
            "grid_gap": null,
            "grid_row": null,
            "grid_template_areas": null,
            "grid_template_columns": null,
            "grid_template_rows": null,
            "height": null,
            "justify_content": null,
            "justify_items": null,
            "left": null,
            "margin": null,
            "max_height": null,
            "max_width": null,
            "min_height": null,
            "min_width": null,
            "object_fit": null,
            "object_position": null,
            "order": null,
            "overflow": null,
            "overflow_x": null,
            "overflow_y": null,
            "padding": null,
            "right": null,
            "top": null,
            "visibility": null,
            "width": null
          }
        },
        "c8b3736f610b4c0e927b96751d859ca0": {
          "model_module": "@jupyter-widgets/controls",
          "model_name": "ProgressStyleModel",
          "model_module_version": "1.5.0",
          "state": {
            "_model_module": "@jupyter-widgets/controls",
            "_model_module_version": "1.5.0",
            "_model_name": "ProgressStyleModel",
            "_view_count": null,
            "_view_module": "@jupyter-widgets/base",
            "_view_module_version": "1.2.0",
            "_view_name": "StyleView",
            "bar_color": null,
            "description_width": ""
          }
        },
        "c3023055a295490e83dfce3b16963db8": {
          "model_module": "@jupyter-widgets/base",
          "model_name": "LayoutModel",
          "model_module_version": "1.2.0",
          "state": {
            "_model_module": "@jupyter-widgets/base",
            "_model_module_version": "1.2.0",
            "_model_name": "LayoutModel",
            "_view_count": null,
            "_view_module": "@jupyter-widgets/base",
            "_view_module_version": "1.2.0",
            "_view_name": "LayoutView",
            "align_content": null,
            "align_items": null,
            "align_self": null,
            "border": null,
            "bottom": null,
            "display": null,
            "flex": null,
            "flex_flow": null,
            "grid_area": null,
            "grid_auto_columns": null,
            "grid_auto_flow": null,
            "grid_auto_rows": null,
            "grid_column": null,
            "grid_gap": null,
            "grid_row": null,
            "grid_template_areas": null,
            "grid_template_columns": null,
            "grid_template_rows": null,
            "height": null,
            "justify_content": null,
            "justify_items": null,
            "left": null,
            "margin": null,
            "max_height": null,
            "max_width": null,
            "min_height": null,
            "min_width": null,
            "object_fit": null,
            "object_position": null,
            "order": null,
            "overflow": null,
            "overflow_x": null,
            "overflow_y": null,
            "padding": null,
            "right": null,
            "top": null,
            "visibility": null,
            "width": null
          }
        },
        "9c3b4ff451c349e190e93a0d83bef321": {
          "model_module": "@jupyter-widgets/controls",
          "model_name": "DescriptionStyleModel",
          "model_module_version": "1.5.0",
          "state": {
            "_model_module": "@jupyter-widgets/controls",
            "_model_module_version": "1.5.0",
            "_model_name": "DescriptionStyleModel",
            "_view_count": null,
            "_view_module": "@jupyter-widgets/base",
            "_view_module_version": "1.2.0",
            "_view_name": "StyleView",
            "description_width": ""
          }
        },
        "744a55da8227405e8174b3e42cfbc82d": {
          "model_module": "@jupyter-widgets/controls",
          "model_name": "HBoxModel",
          "model_module_version": "1.5.0",
          "state": {
            "_dom_classes": [],
            "_model_module": "@jupyter-widgets/controls",
            "_model_module_version": "1.5.0",
            "_model_name": "HBoxModel",
            "_view_count": null,
            "_view_module": "@jupyter-widgets/controls",
            "_view_module_version": "1.5.0",
            "_view_name": "HBoxView",
            "box_style": "",
            "children": [
              "IPY_MODEL_907214e569134eb192eede672db5afde",
              "IPY_MODEL_57f1c6e329bc4b0ab08ade758e56f27f",
              "IPY_MODEL_7267f127aef84d0f926795ba1ecb692f"
            ],
            "layout": "IPY_MODEL_d646bfd94d874007aafb67cbdcd11fa4"
          }
        },
        "907214e569134eb192eede672db5afde": {
          "model_module": "@jupyter-widgets/controls",
          "model_name": "HTMLModel",
          "model_module_version": "1.5.0",
          "state": {
            "_dom_classes": [],
            "_model_module": "@jupyter-widgets/controls",
            "_model_module_version": "1.5.0",
            "_model_name": "HTMLModel",
            "_view_count": null,
            "_view_module": "@jupyter-widgets/controls",
            "_view_module_version": "1.5.0",
            "_view_name": "HTMLView",
            "description": "",
            "description_tooltip": null,
            "layout": "IPY_MODEL_84a4044661a24276b4c7e2153793c1d6",
            "placeholder": "​",
            "style": "IPY_MODEL_ba78bb1d4c4a469ba279e0fbb3819a08",
            "value": "Loss: 0.2395: 100%"
          }
        },
        "57f1c6e329bc4b0ab08ade758e56f27f": {
          "model_module": "@jupyter-widgets/controls",
          "model_name": "FloatProgressModel",
          "model_module_version": "1.5.0",
          "state": {
            "_dom_classes": [],
            "_model_module": "@jupyter-widgets/controls",
            "_model_module_version": "1.5.0",
            "_model_name": "FloatProgressModel",
            "_view_count": null,
            "_view_module": "@jupyter-widgets/controls",
            "_view_module_version": "1.5.0",
            "_view_name": "ProgressView",
            "bar_style": "success",
            "description": "",
            "description_tooltip": null,
            "layout": "IPY_MODEL_26f2d385086944d490a8b15020da800e",
            "max": 10000,
            "min": 0,
            "orientation": "horizontal",
            "style": "IPY_MODEL_6b9a7273d9f6417bb285165fb54b5a6f",
            "value": 10000
          }
        },
        "7267f127aef84d0f926795ba1ecb692f": {
          "model_module": "@jupyter-widgets/controls",
          "model_name": "HTMLModel",
          "model_module_version": "1.5.0",
          "state": {
            "_dom_classes": [],
            "_model_module": "@jupyter-widgets/controls",
            "_model_module_version": "1.5.0",
            "_model_name": "HTMLModel",
            "_view_count": null,
            "_view_module": "@jupyter-widgets/controls",
            "_view_module_version": "1.5.0",
            "_view_name": "HTMLView",
            "description": "",
            "description_tooltip": null,
            "layout": "IPY_MODEL_33bac908a3fc4f5b85bd93936c486d9b",
            "placeholder": "​",
            "style": "IPY_MODEL_73be02d643e44faab6b856a610862654",
            "value": " 10000/10000 [00:07&lt;00:00, 1398.57it/s]"
          }
        },
        "d646bfd94d874007aafb67cbdcd11fa4": {
          "model_module": "@jupyter-widgets/base",
          "model_name": "LayoutModel",
          "model_module_version": "1.2.0",
          "state": {
            "_model_module": "@jupyter-widgets/base",
            "_model_module_version": "1.2.0",
            "_model_name": "LayoutModel",
            "_view_count": null,
            "_view_module": "@jupyter-widgets/base",
            "_view_module_version": "1.2.0",
            "_view_name": "LayoutView",
            "align_content": null,
            "align_items": null,
            "align_self": null,
            "border": null,
            "bottom": null,
            "display": null,
            "flex": null,
            "flex_flow": null,
            "grid_area": null,
            "grid_auto_columns": null,
            "grid_auto_flow": null,
            "grid_auto_rows": null,
            "grid_column": null,
            "grid_gap": null,
            "grid_row": null,
            "grid_template_areas": null,
            "grid_template_columns": null,
            "grid_template_rows": null,
            "height": null,
            "justify_content": null,
            "justify_items": null,
            "left": null,
            "margin": null,
            "max_height": null,
            "max_width": null,
            "min_height": null,
            "min_width": null,
            "object_fit": null,
            "object_position": null,
            "order": null,
            "overflow": null,
            "overflow_x": null,
            "overflow_y": null,
            "padding": null,
            "right": null,
            "top": null,
            "visibility": null,
            "width": null
          }
        },
        "84a4044661a24276b4c7e2153793c1d6": {
          "model_module": "@jupyter-widgets/base",
          "model_name": "LayoutModel",
          "model_module_version": "1.2.0",
          "state": {
            "_model_module": "@jupyter-widgets/base",
            "_model_module_version": "1.2.0",
            "_model_name": "LayoutModel",
            "_view_count": null,
            "_view_module": "@jupyter-widgets/base",
            "_view_module_version": "1.2.0",
            "_view_name": "LayoutView",
            "align_content": null,
            "align_items": null,
            "align_self": null,
            "border": null,
            "bottom": null,
            "display": null,
            "flex": null,
            "flex_flow": null,
            "grid_area": null,
            "grid_auto_columns": null,
            "grid_auto_flow": null,
            "grid_auto_rows": null,
            "grid_column": null,
            "grid_gap": null,
            "grid_row": null,
            "grid_template_areas": null,
            "grid_template_columns": null,
            "grid_template_rows": null,
            "height": null,
            "justify_content": null,
            "justify_items": null,
            "left": null,
            "margin": null,
            "max_height": null,
            "max_width": null,
            "min_height": null,
            "min_width": null,
            "object_fit": null,
            "object_position": null,
            "order": null,
            "overflow": null,
            "overflow_x": null,
            "overflow_y": null,
            "padding": null,
            "right": null,
            "top": null,
            "visibility": null,
            "width": null
          }
        },
        "ba78bb1d4c4a469ba279e0fbb3819a08": {
          "model_module": "@jupyter-widgets/controls",
          "model_name": "DescriptionStyleModel",
          "model_module_version": "1.5.0",
          "state": {
            "_model_module": "@jupyter-widgets/controls",
            "_model_module_version": "1.5.0",
            "_model_name": "DescriptionStyleModel",
            "_view_count": null,
            "_view_module": "@jupyter-widgets/base",
            "_view_module_version": "1.2.0",
            "_view_name": "StyleView",
            "description_width": ""
          }
        },
        "26f2d385086944d490a8b15020da800e": {
          "model_module": "@jupyter-widgets/base",
          "model_name": "LayoutModel",
          "model_module_version": "1.2.0",
          "state": {
            "_model_module": "@jupyter-widgets/base",
            "_model_module_version": "1.2.0",
            "_model_name": "LayoutModel",
            "_view_count": null,
            "_view_module": "@jupyter-widgets/base",
            "_view_module_version": "1.2.0",
            "_view_name": "LayoutView",
            "align_content": null,
            "align_items": null,
            "align_self": null,
            "border": null,
            "bottom": null,
            "display": null,
            "flex": null,
            "flex_flow": null,
            "grid_area": null,
            "grid_auto_columns": null,
            "grid_auto_flow": null,
            "grid_auto_rows": null,
            "grid_column": null,
            "grid_gap": null,
            "grid_row": null,
            "grid_template_areas": null,
            "grid_template_columns": null,
            "grid_template_rows": null,
            "height": null,
            "justify_content": null,
            "justify_items": null,
            "left": null,
            "margin": null,
            "max_height": null,
            "max_width": null,
            "min_height": null,
            "min_width": null,
            "object_fit": null,
            "object_position": null,
            "order": null,
            "overflow": null,
            "overflow_x": null,
            "overflow_y": null,
            "padding": null,
            "right": null,
            "top": null,
            "visibility": null,
            "width": null
          }
        },
        "6b9a7273d9f6417bb285165fb54b5a6f": {
          "model_module": "@jupyter-widgets/controls",
          "model_name": "ProgressStyleModel",
          "model_module_version": "1.5.0",
          "state": {
            "_model_module": "@jupyter-widgets/controls",
            "_model_module_version": "1.5.0",
            "_model_name": "ProgressStyleModel",
            "_view_count": null,
            "_view_module": "@jupyter-widgets/base",
            "_view_module_version": "1.2.0",
            "_view_name": "StyleView",
            "bar_color": null,
            "description_width": ""
          }
        },
        "33bac908a3fc4f5b85bd93936c486d9b": {
          "model_module": "@jupyter-widgets/base",
          "model_name": "LayoutModel",
          "model_module_version": "1.2.0",
          "state": {
            "_model_module": "@jupyter-widgets/base",
            "_model_module_version": "1.2.0",
            "_model_name": "LayoutModel",
            "_view_count": null,
            "_view_module": "@jupyter-widgets/base",
            "_view_module_version": "1.2.0",
            "_view_name": "LayoutView",
            "align_content": null,
            "align_items": null,
            "align_self": null,
            "border": null,
            "bottom": null,
            "display": null,
            "flex": null,
            "flex_flow": null,
            "grid_area": null,
            "grid_auto_columns": null,
            "grid_auto_flow": null,
            "grid_auto_rows": null,
            "grid_column": null,
            "grid_gap": null,
            "grid_row": null,
            "grid_template_areas": null,
            "grid_template_columns": null,
            "grid_template_rows": null,
            "height": null,
            "justify_content": null,
            "justify_items": null,
            "left": null,
            "margin": null,
            "max_height": null,
            "max_width": null,
            "min_height": null,
            "min_width": null,
            "object_fit": null,
            "object_position": null,
            "order": null,
            "overflow": null,
            "overflow_x": null,
            "overflow_y": null,
            "padding": null,
            "right": null,
            "top": null,
            "visibility": null,
            "width": null
          }
        },
        "73be02d643e44faab6b856a610862654": {
          "model_module": "@jupyter-widgets/controls",
          "model_name": "DescriptionStyleModel",
          "model_module_version": "1.5.0",
          "state": {
            "_model_module": "@jupyter-widgets/controls",
            "_model_module_version": "1.5.0",
            "_model_name": "DescriptionStyleModel",
            "_view_count": null,
            "_view_module": "@jupyter-widgets/base",
            "_view_module_version": "1.2.0",
            "_view_name": "StyleView",
            "description_width": ""
          }
        }
      }
    },
    "accelerator": "GPU"
  },
  "cells": [
    {
      "cell_type": "markdown",
      "metadata": {
        "id": "szKHE895Rp9N"
      },
      "source": [
        "# From Numpy to PyTorch"
      ]
    },
    {
      "cell_type": "code",
      "metadata": {
        "id": "xrytseZAQc2P"
      },
      "source": [
        "import numpy as np    # import numpy\n",
        "import torch          # import torch"
      ],
      "execution_count": 32,
      "outputs": []
    },
    {
      "cell_type": "code",
      "metadata": {
        "id": "l_j8mie_R6jg"
      },
      "source": [
        "array = [[1, 2, 3], [4, 5, 6]]  # initial data"
      ],
      "execution_count": 33,
      "outputs": []
    },
    {
      "cell_type": "code",
      "metadata": {
        "id": "51wGnhqLQqYh",
        "colab": {
          "base_uri": "https://localhost:8080/"
        },
        "outputId": "be499667-491c-4b72-f6e7-770c25ee233b"
      },
      "source": [
        "np_array = np.array(array)\n",
        "print(\"Numpy Array Type: {}\".format(type(np_array)))\n",
        "print(\"Numpy Array Shape: {}\".format(np_array.shape))\n",
        "print(\"Numpy Array:\")\n",
        "print(np_array)"
      ],
      "execution_count": 34,
      "outputs": [
        {
          "output_type": "stream",
          "name": "stdout",
          "text": [
            "Numpy Array Type: <class 'numpy.ndarray'>\n",
            "Numpy Array Shape: (2, 3)\n",
            "Numpy Array:\n",
            "[[1 2 3]\n",
            " [4 5 6]]\n"
          ]
        }
      ]
    },
    {
      "cell_type": "code",
      "metadata": {
        "id": "qHoz8G9URHJW",
        "colab": {
          "base_uri": "https://localhost:8080/"
        },
        "outputId": "3ce296c0-6787-455a-b945-b497679d9371"
      },
      "source": [
        "tensor = torch.Tensor(array)\n",
        "print(\"PyTorch Array Type: {}\".format(tensor.type))\n",
        "print(\"PyTorch Array Shape: {}\".format(tensor.shape))\n",
        "print(\"PyTorch Array:\")\n",
        "print(tensor)"
      ],
      "execution_count": 35,
      "outputs": [
        {
          "output_type": "stream",
          "name": "stdout",
          "text": [
            "PyTorch Array Type: <built-in method type of Tensor object at 0x7b8dee1d1170>\n",
            "PyTorch Array Shape: torch.Size([2, 3])\n",
            "PyTorch Array:\n",
            "tensor([[1., 2., 3.],\n",
            "        [4., 5., 6.]])\n"
          ]
        }
      ]
    },
    {
      "cell_type": "markdown",
      "metadata": {
        "id": "PTK8OXupR_JC"
      },
      "source": [
        "# Initialize Matrix (Tensor)"
      ]
    },
    {
      "cell_type": "code",
      "metadata": {
        "id": "8tkI0wklRZNn",
        "colab": {
          "base_uri": "https://localhost:8080/"
        },
        "outputId": "8689699d-4015-4b05-c05a-8f60243a767d"
      },
      "source": [
        "np_ones = np.ones((2,3))\n",
        "print(np_ones)"
      ],
      "execution_count": 36,
      "outputs": [
        {
          "output_type": "stream",
          "name": "stdout",
          "text": [
            "[[1. 1. 1.]\n",
            " [1. 1. 1.]]\n"
          ]
        }
      ]
    },
    {
      "cell_type": "code",
      "metadata": {
        "id": "53rNIydLSgwx",
        "colab": {
          "base_uri": "https://localhost:8080/"
        },
        "outputId": "6d4a62e1-2167-4b21-a7c6-db18308f5443"
      },
      "source": [
        "torch_ones = torch.ones((2,3))\n",
        "print(torch_ones)"
      ],
      "execution_count": 37,
      "outputs": [
        {
          "output_type": "stream",
          "name": "stdout",
          "text": [
            "tensor([[1., 1., 1.],\n",
            "        [1., 1., 1.]])\n"
          ]
        }
      ]
    },
    {
      "cell_type": "code",
      "metadata": {
        "id": "EGWbq0UlSmql",
        "colab": {
          "base_uri": "https://localhost:8080/"
        },
        "outputId": "51a3c4a2-c63d-43b0-99ad-2fe40b2dac82"
      },
      "source": [
        "print(torch.arange(10))   # equivalent to np.arange\n",
        "print(torch.rand(3, 4))   # euivalent to np.random.rand"
      ],
      "execution_count": 38,
      "outputs": [
        {
          "output_type": "stream",
          "name": "stdout",
          "text": [
            "tensor([0, 1, 2, 3, 4, 5, 6, 7, 8, 9])\n",
            "tensor([[0.6255, 0.7067, 0.0665, 0.3562],\n",
            "        [0.8607, 0.6015, 0.8453, 0.2796],\n",
            "        [0.1943, 0.6018, 0.2541, 0.3397]])\n"
          ]
        }
      ]
    },
    {
      "cell_type": "markdown",
      "metadata": {
        "id": "PQSUDjiGSzde"
      },
      "source": [
        "# Conversion between Numpy and PyTorch"
      ]
    },
    {
      "cell_type": "code",
      "metadata": {
        "id": "utfomzOdS4BG",
        "colab": {
          "base_uri": "https://localhost:8080/"
        },
        "outputId": "90ec7cb6-cfef-4e10-b1b9-5d142747eb1b"
      },
      "source": [
        "np_array = np.random.rand(2, 3)\n",
        "print(np_array)\n",
        "print(type(np_array))"
      ],
      "execution_count": 39,
      "outputs": [
        {
          "output_type": "stream",
          "name": "stdout",
          "text": [
            "[[0.20506007 0.37107517 0.79077342]\n",
            " [0.49711933 0.11885882 0.62581451]]\n",
            "<class 'numpy.ndarray'>\n"
          ]
        }
      ]
    },
    {
      "cell_type": "code",
      "metadata": {
        "id": "eZL9bzRFTAHb",
        "colab": {
          "base_uri": "https://localhost:8080/"
        },
        "outputId": "28c65c37-d2ba-4981-ba84-afcce7a90f5b"
      },
      "source": [
        "tensor_from_np_array = torch.from_numpy(np_array)   # From numpy to pytorch\n",
        "print(tensor_from_np_array)\n",
        "print(tensor_from_np_array.type)"
      ],
      "execution_count": 40,
      "outputs": [
        {
          "output_type": "stream",
          "name": "stdout",
          "text": [
            "tensor([[0.2051, 0.3711, 0.7908],\n",
            "        [0.4971, 0.1189, 0.6258]], dtype=torch.float64)\n",
            "<built-in method type of Tensor object at 0x7b8dee1d1d50>\n"
          ]
        }
      ]
    },
    {
      "cell_type": "code",
      "metadata": {
        "id": "d2tMe3P-TNfP",
        "colab": {
          "base_uri": "https://localhost:8080/"
        },
        "outputId": "da81d0a1-9484-4364-d09e-b3df80e2d534"
      },
      "source": [
        "np_array_from_tensor = tensor_from_np_array.numpy()\n",
        "print(np_array_from_tensor)\n",
        "print(type(np_array_from_tensor))\n",
        "print(np.allclose(np_array, np_array_from_tensor))"
      ],
      "execution_count": 41,
      "outputs": [
        {
          "output_type": "stream",
          "name": "stdout",
          "text": [
            "[[0.20506007 0.37107517 0.79077342]\n",
            " [0.49711933 0.11885882 0.62581451]]\n",
            "<class 'numpy.ndarray'>\n",
            "True\n"
          ]
        }
      ]
    },
    {
      "cell_type": "markdown",
      "metadata": {
        "id": "vr3bP50wTyro"
      },
      "source": [
        "# Basic Operations on Tensors"
      ]
    },
    {
      "cell_type": "code",
      "metadata": {
        "id": "DHeHswmnTcCk"
      },
      "source": [
        "a = torch.rand(3, 4)\n",
        "b = torch.ones(3, 4)"
      ],
      "execution_count": 42,
      "outputs": []
    },
    {
      "cell_type": "code",
      "metadata": {
        "id": "GUwDOtmpUHab",
        "colab": {
          "base_uri": "https://localhost:8080/"
        },
        "outputId": "51e9484c-9480-4d76-a4aa-5544cfaf6ded"
      },
      "source": [
        "print(a)\n",
        "print(b)"
      ],
      "execution_count": 43,
      "outputs": [
        {
          "output_type": "stream",
          "name": "stdout",
          "text": [
            "tensor([[0.6451, 0.4836, 0.7463, 0.8346],\n",
            "        [0.1409, 0.1404, 0.8599, 0.4113],\n",
            "        [0.4092, 0.9374, 0.5886, 0.0262]])\n",
            "tensor([[1., 1., 1., 1.],\n",
            "        [1., 1., 1., 1.],\n",
            "        [1., 1., 1., 1.]])\n"
          ]
        }
      ]
    },
    {
      "cell_type": "code",
      "metadata": {
        "id": "rodkxAJpTs7l",
        "colab": {
          "base_uri": "https://localhost:8080/"
        },
        "outputId": "b5afb926-abdb-441b-a652-e2ae008d84ed"
      },
      "source": [
        "print(a.reshape(2, 6))  # Reshape\n",
        "print(a + b)            # Addition\n",
        "print(a - b)            # Subtraction\n",
        "print(a * b)            # Element-wise multiplication\n",
        "print(b / a)            # Element-wise division\n",
        "print(a @ b.T)          # Matrix multiplication\n",
        "print((b.T @ a).mean()) # Mean\n",
        "print((b.T @ a).std())  # Standard deviation"
      ],
      "execution_count": 44,
      "outputs": [
        {
          "output_type": "stream",
          "name": "stdout",
          "text": [
            "tensor([[0.6451, 0.4836, 0.7463, 0.8346, 0.1409, 0.1404],\n",
            "        [0.8599, 0.4113, 0.4092, 0.9374, 0.5886, 0.0262]])\n",
            "tensor([[1.6451, 1.4836, 1.7463, 1.8346],\n",
            "        [1.1409, 1.1404, 1.8599, 1.4113],\n",
            "        [1.4092, 1.9374, 1.5886, 1.0262]])\n",
            "tensor([[-0.3549, -0.5164, -0.2537, -0.1654],\n",
            "        [-0.8591, -0.8596, -0.1401, -0.5887],\n",
            "        [-0.5908, -0.0626, -0.4114, -0.9738]])\n",
            "tensor([[0.6451, 0.4836, 0.7463, 0.8346],\n",
            "        [0.1409, 0.1404, 0.8599, 0.4113],\n",
            "        [0.4092, 0.9374, 0.5886, 0.0262]])\n",
            "tensor([[ 1.5501,  2.0679,  1.3400,  1.1982],\n",
            "        [ 7.0972,  7.1234,  1.1629,  2.4316],\n",
            "        [ 2.4436,  1.0668,  1.6991, 38.2259]])\n",
            "tensor([[2.7096, 2.7096, 2.7096],\n",
            "        [1.5524, 1.5524, 1.5524],\n",
            "        [1.9614, 1.9614, 1.9614]])\n",
            "tensor(1.5559)\n",
            "tensor(0.4062)\n"
          ]
        }
      ]
    },
    {
      "cell_type": "code",
      "metadata": {
        "id": "rW5LfmMvVFQq",
        "colab": {
          "base_uri": "https://localhost:8080/"
        },
        "outputId": "17b9ded1-cf23-445d-c505-bd82ed111db7"
      },
      "source": [
        "print(a.mean())\n",
        "print(a.mean().item())          # Trick: convert 0-d tensor into scalar\n",
        "print(type(a.mean().item()))"
      ],
      "execution_count": 45,
      "outputs": [
        {
          "output_type": "stream",
          "name": "stdout",
          "text": [
            "tensor(0.5186)\n",
            "0.518617570400238\n",
            "<class 'float'>\n"
          ]
        }
      ]
    },
    {
      "cell_type": "markdown",
      "metadata": {
        "id": "Ai9HmnX9ojf1"
      },
      "source": [
        "# Move to GPU for Accelerated Computation\n",
        "\n",
        "Enabling and testing the GPU: to enable GPUs for the notebook,\n",
        "\n",
        "Navigate to Edit→Notebook Settings\n",
        "select GPU from the Hardware Accelerator drop-down"
      ]
    },
    {
      "cell_type": "code",
      "metadata": {
        "id": "iVp5TbDioq5l",
        "colab": {
          "base_uri": "https://localhost:8080/"
        },
        "outputId": "b12cb14a-519b-40a7-f640-e471c8c14e2a"
      },
      "source": [
        "%%timeit\n",
        "a = torch.rand(1000, 100000)\n",
        "b = torch.rand(100000, 1000)\n",
        "c = a @ b"
      ],
      "execution_count": 46,
      "outputs": [
        {
          "output_type": "stream",
          "name": "stdout",
          "text": [
            "4.38 s ± 373 ms per loop (mean ± std. dev. of 7 runs, 1 loop each)\n"
          ]
        }
      ]
    },
    {
      "cell_type": "code",
      "metadata": {
        "id": "NFiYJxoTdQq2"
      },
      "source": [],
      "execution_count": null,
      "outputs": []
    },
    {
      "cell_type": "code",
      "metadata": {
        "id": "92pvW7OFovb-",
        "colab": {
          "base_uri": "https://localhost:8080/"
        },
        "outputId": "e20df047-dd6f-45ee-fc7b-521716b0df37"
      },
      "source": [
        "%%timeit\n",
        "a = torch.rand(1000, 100000).cuda()\n",
        "b = torch.rand(100000, 1000).cuda()\n",
        "c = a @ b"
      ],
      "execution_count": 47,
      "outputs": [
        {
          "output_type": "stream",
          "name": "stdout",
          "text": [
            "1.84 s ± 169 ms per loop (mean ± std. dev. of 7 runs, 1 loop each)\n"
          ]
        }
      ]
    },
    {
      "cell_type": "code",
      "metadata": {
        "id": "CPRebuHCqCJu",
        "colab": {
          "base_uri": "https://localhost:8080/"
        },
        "outputId": "b87a21f4-d498-4836-ad9e-4a1b314522bc"
      },
      "source": [
        "cpu_tensor = torch.rand(5)\n",
        "gpu_tensor = cpu_tensor.cuda()\n",
        "print(cpu_tensor)\n",
        "print(gpu_tensor)"
      ],
      "execution_count": 48,
      "outputs": [
        {
          "output_type": "stream",
          "name": "stdout",
          "text": [
            "tensor([0.3656, 0.8101, 0.3224, 0.5409, 0.9901])\n",
            "tensor([0.3656, 0.8101, 0.3224, 0.5409, 0.9901], device='cuda:0')\n"
          ]
        }
      ]
    },
    {
      "cell_type": "code",
      "metadata": {
        "id": "70wK7KKvqjVO",
        "colab": {
          "base_uri": "https://localhost:8080/",
          "height": 34
        },
        "outputId": "7d45f6fd-fc59-4e52-e652-8a34deb9eaf2"
      },
      "source": [
        "# Let's check what GPUs we got\n",
        "torch.cuda.get_device_name(0)"
      ],
      "execution_count": 49,
      "outputs": [
        {
          "output_type": "execute_result",
          "data": {
            "text/plain": [
              "'Tesla T4'"
            ],
            "application/vnd.google.colaboratory.intrinsic+json": {
              "type": "string"
            }
          },
          "metadata": {},
          "execution_count": 49
        }
      ]
    },
    {
      "cell_type": "code",
      "metadata": {
        "id": "CoECUG2orNwb",
        "colab": {
          "base_uri": "https://localhost:8080/"
        },
        "outputId": "641a9896-9273-41c1-963d-0910548c345a"
      },
      "source": [
        "# And CPU info\n",
        "!cat /proc/cpuinfo"
      ],
      "execution_count": 50,
      "outputs": [
        {
          "output_type": "stream",
          "name": "stdout",
          "text": [
            "processor\t: 0\n",
            "vendor_id\t: GenuineIntel\n",
            "cpu family\t: 6\n",
            "model\t\t: 63\n",
            "model name\t: Intel(R) Xeon(R) CPU @ 2.30GHz\n",
            "stepping\t: 0\n",
            "microcode\t: 0xffffffff\n",
            "cpu MHz\t\t: 2299.998\n",
            "cache size\t: 46080 KB\n",
            "physical id\t: 0\n",
            "siblings\t: 2\n",
            "core id\t\t: 0\n",
            "cpu cores\t: 1\n",
            "apicid\t\t: 0\n",
            "initial apicid\t: 0\n",
            "fpu\t\t: yes\n",
            "fpu_exception\t: yes\n",
            "cpuid level\t: 13\n",
            "wp\t\t: yes\n",
            "flags\t\t: fpu vme de pse tsc msr pae mce cx8 apic sep mtrr pge mca cmov pat pse36 clflush mmx fxsr sse sse2 ss ht syscall nx pdpe1gb rdtscp lm constant_tsc rep_good nopl xtopology nonstop_tsc cpuid tsc_known_freq pni pclmulqdq ssse3 fma cx16 pcid sse4_1 sse4_2 x2apic movbe popcnt aes xsave avx f16c rdrand hypervisor lahf_lm abm invpcid_single ssbd ibrs ibpb stibp fsgsbase tsc_adjust bmi1 avx2 smep bmi2 erms invpcid xsaveopt arat md_clear arch_capabilities\n",
            "bugs\t\t: cpu_meltdown spectre_v1 spectre_v2 spec_store_bypass l1tf mds swapgs mmio_stale_data retbleed\n",
            "bogomips\t: 4599.99\n",
            "clflush size\t: 64\n",
            "cache_alignment\t: 64\n",
            "address sizes\t: 46 bits physical, 48 bits virtual\n",
            "power management:\n",
            "\n",
            "processor\t: 1\n",
            "vendor_id\t: GenuineIntel\n",
            "cpu family\t: 6\n",
            "model\t\t: 63\n",
            "model name\t: Intel(R) Xeon(R) CPU @ 2.30GHz\n",
            "stepping\t: 0\n",
            "microcode\t: 0xffffffff\n",
            "cpu MHz\t\t: 2299.998\n",
            "cache size\t: 46080 KB\n",
            "physical id\t: 0\n",
            "siblings\t: 2\n",
            "core id\t\t: 0\n",
            "cpu cores\t: 1\n",
            "apicid\t\t: 1\n",
            "initial apicid\t: 1\n",
            "fpu\t\t: yes\n",
            "fpu_exception\t: yes\n",
            "cpuid level\t: 13\n",
            "wp\t\t: yes\n",
            "flags\t\t: fpu vme de pse tsc msr pae mce cx8 apic sep mtrr pge mca cmov pat pse36 clflush mmx fxsr sse sse2 ss ht syscall nx pdpe1gb rdtscp lm constant_tsc rep_good nopl xtopology nonstop_tsc cpuid tsc_known_freq pni pclmulqdq ssse3 fma cx16 pcid sse4_1 sse4_2 x2apic movbe popcnt aes xsave avx f16c rdrand hypervisor lahf_lm abm invpcid_single ssbd ibrs ibpb stibp fsgsbase tsc_adjust bmi1 avx2 smep bmi2 erms invpcid xsaveopt arat md_clear arch_capabilities\n",
            "bugs\t\t: cpu_meltdown spectre_v1 spectre_v2 spec_store_bypass l1tf mds swapgs mmio_stale_data retbleed\n",
            "bogomips\t: 4599.99\n",
            "clflush size\t: 64\n",
            "cache_alignment\t: 64\n",
            "address sizes\t: 46 bits physical, 48 bits virtual\n",
            "power management:\n",
            "\n"
          ]
        }
      ]
    },
    {
      "cell_type": "markdown",
      "metadata": {
        "id": "LUzWJRZGVxla"
      },
      "source": [
        "# Automatic Differentiation"
      ]
    },
    {
      "cell_type": "code",
      "metadata": {
        "id": "NLZftQvUw0WQ",
        "colab": {
          "base_uri": "https://localhost:8080/"
        },
        "outputId": "e1436cc1-0b76-4e6b-8b68-4d985a5a70bd"
      },
      "source": [
        "x = torch.tensor([1., 2., 3, 4], requires_grad=True)\n",
        "y = torch.tensor([4., 5., 6, 7], requires_grad=True)\n",
        "z = 5 * x + 2 * y\n",
        "m = z.sum() # forward\n",
        "\n",
        "m.backward() # calculates the gradients\n",
        "print(x.grad)\n",
        "print(y.grad)"
      ],
      "execution_count": 51,
      "outputs": [
        {
          "output_type": "stream",
          "name": "stdout",
          "text": [
            "tensor([5., 5., 5., 5.])\n",
            "tensor([2., 2., 2., 2.])\n"
          ]
        }
      ]
    },
    {
      "cell_type": "code",
      "metadata": {
        "id": "ZdzHqL30VwD9",
        "colab": {
          "base_uri": "https://localhost:8080/"
        },
        "outputId": "05cccefd-053a-4a85-fc78-aa116083e062"
      },
      "source": [
        "x = torch.tensor([1., 2., 3], requires_grad=True)\n",
        "print(x)"
      ],
      "execution_count": 52,
      "outputs": [
        {
          "output_type": "stream",
          "name": "stdout",
          "text": [
            "tensor([1., 2., 3.], requires_grad=True)\n"
          ]
        }
      ]
    },
    {
      "cell_type": "code",
      "metadata": {
        "id": "GsB98jdKWWju",
        "colab": {
          "base_uri": "https://localhost:8080/"
        },
        "outputId": "adf2ee80-cb0b-4edf-f4ed-8faac459d448"
      },
      "source": [
        "y = torch.tensor([4., 5., 6], requires_grad=True)\n",
        "z = 5 * x + 2 * y\n",
        "print(z)"
      ],
      "execution_count": 53,
      "outputs": [
        {
          "output_type": "stream",
          "name": "stdout",
          "text": [
            "tensor([13., 20., 27.], grad_fn=<AddBackward0>)\n"
          ]
        }
      ]
    },
    {
      "cell_type": "markdown",
      "metadata": {
        "id": "k-nzXrpRYUBM"
      },
      "source": [
        "One advantage of using deep learning framework is that if can *automatically* calculate the gradients, which allows you to not have to write the back propagation gradients yourself. The trick is the `requires_grad`.\n",
        "\n",
        "`requires_grad` is set to `False` by default so the Tensor is essentially similar with a `np.ndarray`. However, when explicitly set the flag to `True`, it will start to track the history of each Tensor, i.e. remember how it is created."
      ]
    },
    {
      "cell_type": "code",
      "metadata": {
        "id": "NxzS6Q-IXXuO",
        "colab": {
          "base_uri": "https://localhost:8080/"
        },
        "outputId": "be42255a-825d-4812-c474-979164ff5c1d"
      },
      "source": [
        "m = z.sum()\n",
        "print(z)"
      ],
      "execution_count": 54,
      "outputs": [
        {
          "output_type": "stream",
          "name": "stdout",
          "text": [
            "tensor([13., 20., 27.], grad_fn=<AddBackward0>)\n"
          ]
        }
      ]
    },
    {
      "cell_type": "code",
      "metadata": {
        "id": "IHVp79oNXlKE",
        "colab": {
          "base_uri": "https://localhost:8080/"
        },
        "outputId": "7bb30025-54e6-4d99-fea7-3a4405232cf4"
      },
      "source": [
        "m.backward()\n",
        "print(x.grad)\n",
        "print(y.grad)"
      ],
      "execution_count": 55,
      "outputs": [
        {
          "output_type": "stream",
          "name": "stdout",
          "text": [
            "tensor([5., 5., 5.])\n",
            "tensor([2., 2., 2.])\n"
          ]
        }
      ]
    },
    {
      "cell_type": "markdown",
      "source": [
        "why retune only 6 output instead of 8"
      ],
      "metadata": {
        "id": "Tw-C-_Qf_k-y"
      }
    },
    {
      "cell_type": "markdown",
      "metadata": {
        "id": "3oVBWjZIZ6H2"
      },
      "source": [
        "What happened?\n",
        "\n",
        "Recall how we calculate $z_i$: $z_i = 5x_i + 2y_i, i = 0, 1, 2$.\n",
        "Also, $s = \\sum{z} = z_0 + z_1 + z_2$.\n",
        "\n",
        "How to calculate $\\frac{\\partial{s}}{\\partial{x}}$?\n",
        "By chain rule, we have $\\frac{\\partial{s}}{\\partial{x}} = \\frac{\\partial{s}}{\\partial{z}} \\cdot \\frac{\\partial{z}}{\\partial{x}}$, therefore $\\frac{\\partial{s}}{\\partial{x_0}} = \\frac{\\partial{s}}{\\partial{z_0}} \\cdot \\frac{\\partial{z_0}}{\\partial{x_0}} = 1 \\times 5 = 5$\n",
        "\n",
        "Similarly $\\frac{\\partial{z_0}}{\\partial{y_0}} = 1 \\times 2 = 2$."
      ]
    },
    {
      "cell_type": "markdown",
      "metadata": {
        "id": "VuGoKGLJbwxZ"
      },
      "source": [
        "In short, by tracking the history of how individual variable is obtained, the program can automatically traceback and use chain rules to calculate the gradients for us, which is very helpful for training the models."
      ]
    },
    {
      "cell_type": "code",
      "metadata": {
        "id": "HpJkuLLRZ5YX",
        "colab": {
          "base_uri": "https://localhost:8080/"
        },
        "outputId": "6ff4e831-41b4-468d-aba4-84c8e41fe2ea"
      },
      "source": [
        "m = torch.sum(x * (y ** 2) - 4 * x * y)\n",
        "print(x)\n",
        "print(y)\n",
        "print(m)      # So you can write arbitrarily complicated expression!"
      ],
      "execution_count": 56,
      "outputs": [
        {
          "output_type": "stream",
          "name": "stdout",
          "text": [
            "tensor([1., 2., 3.], requires_grad=True)\n",
            "tensor([4., 5., 6.], requires_grad=True)\n",
            "tensor(46., grad_fn=<SumBackward0>)\n"
          ]
        }
      ]
    },
    {
      "cell_type": "code",
      "metadata": {
        "id": "5Y4NhqoycNRz",
        "colab": {
          "base_uri": "https://localhost:8080/"
        },
        "outputId": "b573775d-d4b7-42b4-f824-37a2aa69a389"
      },
      "source": [
        "x.grad.zero_()   # Gradients will be accumulated, so we need to clear out first.\n",
        "y.grad.zero_()\n",
        "\n",
        "m.backward()\n",
        "print(x.grad)\n",
        "print(y.grad)"
      ],
      "execution_count": 57,
      "outputs": [
        {
          "output_type": "stream",
          "name": "stdout",
          "text": [
            "tensor([ 0.,  5., 12.])\n",
            "tensor([ 4., 12., 24.])\n"
          ]
        }
      ]
    },
    {
      "cell_type": "markdown",
      "metadata": {
        "id": "ok6iNNAnfZK3"
      },
      "source": [
        "You can verify the results with the following derivative equations:\n",
        "\n",
        "$\\frac{\\partial{m}}{\\partial{x}} = (y^2 - 4y)$\n",
        "\n",
        "$\\frac{\\partial{m}}{\\partial{y}} = (2 xy - 4x)$"
      ]
    },
    {
      "cell_type": "markdown",
      "metadata": {
        "id": "QW4gUElBgTwZ"
      },
      "source": [
        "# Linear Regression"
      ]
    },
    {
      "cell_type": "code",
      "metadata": {
        "id": "NsMfXAFrfXMu"
      },
      "source": [
        "import numpy as np\n",
        "import torch\n",
        "import matplotlib.pyplot as plt\n",
        "from tqdm import tqdm_notebook\n",
        "import time\n",
        "\n",
        "plt.style.use('ggplot')"
      ],
      "execution_count": 58,
      "outputs": []
    },
    {
      "cell_type": "markdown",
      "metadata": {
        "id": "eq_6uhfcFDFd"
      },
      "source": [
        "Let's first simulate some data and have a loop.\n",
        "\n",
        "Here for easier visualization, our feature contains only 1 variable so it can be easily shown on a 2-d figure. But the same will apply to higher dimensional data."
      ]
    },
    {
      "cell_type": "code",
      "metadata": {
        "id": "j9QbrHiJghj7"
      },
      "source": [
        "w, b = 12, -4 # y = w * x + b\n",
        "\n",
        "data = torch.rand(200, 1)\n",
        "label = w * data + b + 0.5 * torch.randn(200, 1)"
      ],
      "execution_count": 59,
      "outputs": []
    },
    {
      "cell_type": "code",
      "metadata": {
        "id": "4xu8I1TphBjb",
        "colab": {
          "base_uri": "https://localhost:8080/",
          "height": 452
        },
        "outputId": "5e9a348f-b537-45c8-c723-306e5daf17a6"
      },
      "source": [
        "plt.scatter(data, label)\n",
        "plt.xlabel(\"x\")\n",
        "plt.ylabel(\"y\")\n",
        "plt.show()"
      ],
      "execution_count": 60,
      "outputs": [
        {
          "output_type": "display_data",
          "data": {
            "text/plain": [
              "<Figure size 640x480 with 1 Axes>"
            ],
            "image/png": "[encoded data removed]"
          },
          "metadata": {}
        }
      ]
    },
    {
      "cell_type": "code",
      "metadata": {
        "id": "kurLHRCVhIa9"
      },
      "source": [
        "weight = torch.rand(1, requires_grad=True)   # Assuming y = x * w + b\n",
        "bias = torch.rand(1, requires_grad=True)"
      ],
      "execution_count": 61,
      "outputs": []
    },
    {
      "cell_type": "code",
      "metadata": {
        "id": "SseOYbWkk6Bg",
        "colab": {
          "base_uri": "https://localhost:8080/"
        },
        "outputId": "148e26b6-100e-4121-87af-8e7a35efc887"
      },
      "source": [
        "print(weight, bias)"
      ],
      "execution_count": 62,
      "outputs": [
        {
          "output_type": "stream",
          "name": "stdout",
          "text": [
            "tensor([0.7055], requires_grad=True) tensor([0.5516], requires_grad=True)\n"
          ]
        }
      ]
    },
    {
      "cell_type": "code",
      "metadata": {
        "id": "I_YQA24CjEKt"
      },
      "source": [
        "# Hyperparameter\n",
        "learning_rate = 0.1"
      ],
      "execution_count": 63,
      "outputs": []
    },
    {
      "cell_type": "code",
      "metadata": {
        "id": "VM2qIeuFjUf1",
        "colab": {
          "base_uri": "https://localhost:8080/",
          "height": 98,
          "referenced_widgets": [
            "0fcf8574fe2b44c5ba4670263fddcd30",
            "f47f9bfe33994b0fbdd88c2d703291f3",
            "e22fb9a0f0b142b0b5a53fc374050773",
            "c0c47466e7354e6fa54eed86363d42b8",
            "9415be8215c1461091a03976a5fa58f5",
            "e1bac88e5c514b93aec230fcd3519be8",
            "05b54b76952e49ac8f6be6cc5de8e6fc",
            "a19e4de9eb694d70b8f368b8b2ae8c3c",
            "093808b95e2e4570aefe5c24131a2652",
            "781be9ee38664ca096392e52b0e216f3",
            "a0763174b6514db2b9585a5eb45c4561"
          ]
        },
        "outputId": "d204f694-32a9-4204-a5e0-872fff954106"
      },
      "source": [
        "total_steps = tqdm_notebook(range(10000))\n",
        "\n",
        "for step in total_steps:\n",
        "  prediction = weight * data + bias # forward pass\n",
        "  loss = ((prediction - label) ** 2).mean()   # Mean squared error\n",
        "  if (step + 1) % 100 == 0:\n",
        "    total_steps.set_description(\"Loss: %.4f\" % loss.detach().item())\n",
        "\n",
        "  loss.backward()\n",
        "  # plt.plot(x, weight * x + bias)\n",
        "\n",
        "  with torch.no_grad():   # Stops tracking variable\n",
        "    weight -= learning_rate * weight.grad # w_new = w_old - lt*grad\n",
        "    bias -= learning_rate * bias.grad\n",
        "    weight.grad.zero_()   # Avoid gradients being accumulated\n",
        "    bias.grad.zero_()"
      ],
      "execution_count": 64,
      "outputs": [
        {
          "output_type": "stream",
          "name": "stderr",
          "text": [
            "<ipython-input-64-c3fec061e208>:1: TqdmDeprecationWarning: This function will be removed in tqdm==5.0.0\n",
            "Please use `tqdm.notebook.tqdm` instead of `tqdm.tqdm_notebook`\n",
            "  total_steps = tqdm_notebook(range(10000))\n"
          ]
        },
        {
          "output_type": "display_data",
          "data": {
            "text/plain": [
              "  0%|          | 0/10000 [00:00<?, ?it/s]"
            ],
            "application/vnd.jupyter.widget-view+json": {
              "version_major": 2,
              "version_minor": 0,
              "model_id": "0fcf8574fe2b44c5ba4670263fddcd30"
            }
          },
          "metadata": {}
        }
      ]
    },
    {
      "cell_type": "code",
      "metadata": {
        "id": "nz4PPgQBlAig",
        "colab": {
          "base_uri": "https://localhost:8080/"
        },
        "outputId": "f261a6aa-569f-4a69-ec57-0a415612d753"
      },
      "source": [
        "w_hat = weight.detach().item()    # Stops tracking variable\n",
        "b_hat = bias.detach().item()\n",
        "\n",
        "print(\"Learned weight=%.4f, bias=%.4f\" % (w_hat, b_hat))"
      ],
      "execution_count": 65,
      "outputs": [
        {
          "output_type": "stream",
          "name": "stdout",
          "text": [
            "Learned weight=11.7544, bias=-3.8722\n"
          ]
        }
      ]
    },
    {
      "cell_type": "code",
      "metadata": {
        "id": "wuD58E1-CAYC",
        "colab": {
          "base_uri": "https://localhost:8080/",
          "height": 452
        },
        "outputId": "ceeb24ee-1dc6-4b6f-cfce-7dee8785f4b5"
      },
      "source": [
        "xs = np.linspace(0, 1, 100)\n",
        "ys = w_hat * xs + b_hat\n",
        "\n",
        "plt.scatter(data, label)\n",
        "plt.plot(xs, ys, 'b-')\n",
        "plt.xlabel(\"x\")\n",
        "plt.ylabel(\"y\")\n",
        "plt.show()"
      ],
      "execution_count": 66,
      "outputs": [
        {
          "output_type": "display_data",
          "data": {
            "text/plain": [
              "<Figure size 640x480 with 1 Axes>"
            ],
            "image/png": "[encoded data removed]"
          },
          "metadata": {}
        }
      ]
    },
    {
      "cell_type": "markdown",
      "metadata": {
        "id": "R29R6pIfzqQv"
      },
      "source": [
        "# Build a Model - Linear Regression"
      ]
    },
    {
      "cell_type": "markdown",
      "metadata": {
        "id": "yerUB69ezua5"
      },
      "source": [
        "But it's still cumbersome to update the weights by hand! You may say.\n",
        "\n",
        "That makes sense, so PyTorch provides a better approach to do that."
      ]
    },
    {
      "cell_type": "code",
      "metadata": {
        "id": "5vEgwNclz-AQ"
      },
      "source": [
        "import torch.nn as nn\n",
        "\n",
        "class ManualLinearRegression(nn.Module):\n",
        "  def __init__(self):\n",
        "    super().__init__()\n",
        "\n",
        "    self.weight = nn.Parameter(torch.randn(1, requires_grad=True))\n",
        "    self.bias = nn.Parameter(torch.randn(1, requires_grad=True))\n",
        "\n",
        "  def forward(self, x):\n",
        "    return self.weight * x + self.bias"
      ],
      "execution_count": 67,
      "outputs": []
    },
    {
      "cell_type": "markdown",
      "metadata": {
        "id": "aL9g3yt20fce"
      },
      "source": [
        "That's it! You only need to define how the forward pass should be calculated.\n",
        "\n",
        "PyTorch also has some off-the-shelf loss functions and optimizers to further simplify the process."
      ]
    },
    {
      "cell_type": "code",
      "metadata": {
        "id": "12O6KYPa0egz",
        "colab": {
          "base_uri": "https://localhost:8080/",
          "height": 98,
          "referenced_widgets": [
            "91f502d7828744ffa8d56cc62c7ebbdb",
            "c2ebcb97458d4fc89f6e3979591529c4",
            "4c4f94d598ab4fbf90d4c0cb526ed57a",
            "d4d28e8f0ecb49e7ad05b87880a3a705",
            "85491226e4ac48e28d5961e0520ce0f4",
            "fd845fa7fe284291812c72ddbb82e476",
            "e1c0f8a93a5249d88c1ac6e5b2ac2362",
            "a631e0494983478993fbd7f381b936ac",
            "c8b3736f610b4c0e927b96751d859ca0",
            "c3023055a295490e83dfce3b16963db8",
            "9c3b4ff451c349e190e93a0d83bef321"
          ]
        },
        "outputId": "bad195b8-5d30-4067-8315-5881cc5161b7"
      },
      "source": [
        "# Reset the Data\n",
        "\n",
        "w, b = 12, -4\n",
        "data = torch.rand(200, 1)\n",
        "label = w * data + b + 0.5 * torch.randn(200, 1)\n",
        "\n",
        "# Set some hyperparameters\n",
        "learning_rate = 0.01\n",
        "\n",
        "# Build a Model\n",
        "model = ManualLinearRegression()\n",
        "loss_fn = nn.MSELoss()\n",
        "optimizer = torch.optim.SGD(model.parameters(), lr=learning_rate)\n",
        "\n",
        "total_steps = tqdm_notebook(range(10000))\n",
        "\n",
        "for step in total_steps:\n",
        "  prediction = model(data)\n",
        "  loss = loss_fn(label, prediction)\n",
        "  if (step + 1) % 100 == 0:\n",
        "    total_steps.set_description(\"Loss: %.4f\" % loss.detach().item())\n",
        "\n",
        "  loss.backward()\n",
        "  optimizer.step()\n",
        "  optimizer.zero_grad()"
      ],
      "execution_count": 68,
      "outputs": [
        {
          "output_type": "stream",
          "name": "stderr",
          "text": [
            "<ipython-input-68-519a26d24f26>:15: TqdmDeprecationWarning: This function will be removed in tqdm==5.0.0\n",
            "Please use `tqdm.notebook.tqdm` instead of `tqdm.tqdm_notebook`\n",
            "  total_steps = tqdm_notebook(range(10000))\n"
          ]
        },
        {
          "output_type": "display_data",
          "data": {
            "text/plain": [
              "  0%|          | 0/10000 [00:00<?, ?it/s]"
            ],
            "application/vnd.jupyter.widget-view+json": {
              "version_major": 2,
              "version_minor": 0,
              "model_id": "91f502d7828744ffa8d56cc62c7ebbdb"
            }
          },
          "metadata": {}
        }
      ]
    },
    {
      "cell_type": "code",
      "metadata": {
        "id": "wxoFRNEd2j_G",
        "colab": {
          "base_uri": "https://localhost:8080/"
        },
        "outputId": "cbfc49e8-798b-4499-a8a7-bb9338c125b8"
      },
      "source": [
        "for name, param in model.named_parameters():\n",
        "  print(\"%s=%.4f\" % (name, param.item()))"
      ],
      "execution_count": 69,
      "outputs": [
        {
          "output_type": "stream",
          "name": "stdout",
          "text": [
            "weight=11.9941\n",
            "bias=-4.0480\n"
          ]
        }
      ]
    },
    {
      "cell_type": "markdown",
      "metadata": {
        "id": "hzVPNJ6S7_QF"
      },
      "source": [
        "In fact, the *Linear Regression* is built-in module in PyTorch, so our model is just a simplified version of `nn.Linear`. You can find more built-in modules in the documentation."
      ]
    },
    {
      "cell_type": "markdown",
      "source": [
        "#Task:\n",
        "Use the Wine quality dataset to train and validate a 2-layer neural network model with ReLU non-linearity. Use nn.Linear to define fully connected layers. Complete the missing parts in code below.\n",
        "\n"
      ],
      "metadata": {
        "id": "5KBwINLHz9Ay"
      }
    },
    {
      "cell_type": "code",
      "source": [
        "# Load in the data\n",
        "!wget http://archive.ics.uci.edu/ml/machine-learning-databases/wine-quality/winequality-red.csv\n",
        "import pandas as pd\n",
        "data = pd.read_csv(\"winequality-red.csv\", sep=\";\")"
      ],
      "metadata": {
        "id": "hFOrEH_UWAVq",
        "colab": {
          "base_uri": "https://localhost:8080/"
        },
        "outputId": "0d4d86db-76e3-480a-8a28-853c718d9ff4"
      },
      "execution_count": 70,
      "outputs": [
        {
          "output_type": "stream",
          "name": "stdout",
          "text": [
            "--2024-02-16 13:17:39--  http://archive.ics.uci.edu/ml/machine-learning-databases/wine-quality/winequality-red.csv\n",
            "Resolving archive.ics.uci.edu (archive.ics.uci.edu)... 128.195.10.252\n",
            "Connecting to archive.ics.uci.edu (archive.ics.uci.edu)|128.195.10.252|:80... connected.\n",
            "HTTP request sent, awaiting response... 200 OK\n",
            "Length: unspecified\n",
            "Saving to: ‘winequality-red.csv’\n",
            "\n",
            "winequality-red.csv     [ <=>                ]  82.23K  --.-KB/s    in 0.1s    \n",
            "\n",
            "2024-02-16 13:17:40 (821 KB/s) - ‘winequality-red.csv’ saved [84199]\n",
            "\n"
          ]
        }
      ]
    },
    {
      "cell_type": "code",
      "source": [
        "from matplotlib import pyplot as plt\n",
        "import numpy as np\n",
        "from numpy.random import randn\n",
        "from sklearn.preprocessing import StandardScaler\n",
        "import pdb\n",
        "from tqdm import notebook\n",
        "\n",
        "Data = data.drop(\"quality\", axis=1).to_numpy()  # type: ignore\n",
        "Labels = np.reshape(data[\"quality\"].to_numpy(), (-1, 1))  # type: ignore\n",
        "Data = np.c_[Data, np.ones((Data.shape[0],1))]\n",
        "num_features = Data.shape[1]\n",
        "num_targets = 1\n",
        "\n",
        "X_train, X_test = np.array_split(Data, 2)  # type: ignore\n",
        "y_train, y_test = np.array_split(Labels, 2)  # type: ignore\n",
        "\n",
        "feature_scaler = StandardScaler()\n",
        "target_scaler = StandardScaler()\n",
        "# Normalize the data using the first & second moments computed from the training set\n",
        "X_train = feature_scaler.fit_transform(X_train)\n",
        "X_test = feature_scaler.transform(X_test)\n"
      ],
      "metadata": {
        "id": "pjp-iF0NTIb1"
      },
      "execution_count": 71,
      "outputs": []
    },
    {
      "cell_type": "markdown",
      "source": [
        "Write a forward pass"
      ],
      "metadata": {
        "id": "EE7jW_X69_px"
      }
    },
    {
      "cell_type": "code",
      "source": [
        "# Define a 2-layer MLP model\n",
        "class MultilayerPerceptron(nn.Module):\n",
        "  def __init__(self, input_size, hidden_size, num_classes):\n",
        "    super().__init__()\n",
        "    self.fc1 = nn.Linear(input_size, hidden_size)  # w * x + b\n",
        "    self.relu = nn.ReLU()\n",
        "    self.fc2 = nn.Linear(hidden_size, num_classes)\n",
        "\n",
        "  def forward(self, x):\n",
        "    #TASK: write a forward pass\n",
        "    out = self.fc1(x)\n",
        "    out = self.relu(out)\n",
        "    out = self.fc2(out)\n",
        "    return out"
      ],
      "metadata": {
        "id": "9i3lg-75iOyL"
      },
      "execution_count": 78,
      "outputs": []
    },
    {
      "cell_type": "markdown",
      "source": [
        "Define the loss criterion as mean squared error (MSE) using `nn.MSELoss`:"
      ],
      "metadata": {
        "id": "d95sFJx51vaT"
      }
    },
    {
      "cell_type": "code",
      "source": [
        "# Set the Data\n",
        "data=torch.tensor(X_train.copy()).float()\n",
        "label=torch.tensor(y_train.copy()).float()\n",
        "\n",
        "# Set some hyperparameters\n",
        "learning_rate = 0.01\n",
        "\n",
        "# Build a Model\n",
        "model = MultilayerPerceptron(12, 30, 1)\n",
        "print(model)\n",
        "\n",
        "#TASK: define loss criterion\n",
        "loss_criterion = nn.MSELoss()\n",
        "optimizer = torch.optim.SGD(model.parameters(), lr=learning_rate)\n",
        "\n",
        "total_steps = notebook.tqdm(range(10000))\n",
        "\n",
        "model.train()\n",
        "for step in total_steps:\n",
        "  prediction = model(data)\n",
        "  loss = loss_criterion(label, prediction)\n",
        "  if (step + 1) % 100 == 0:\n",
        "    total_steps.set_description(\"Loss: %.4f\" % loss.detach().item())\n",
        "\n",
        "  loss.backward()\n",
        "  optimizer.step()\n",
        "  optimizer.zero_grad()"
      ],
      "metadata": {
        "id": "mzccmAxGf3Np",
        "colab": {
          "base_uri": "https://localhost:8080/",
          "height": 131,
          "referenced_widgets": [
            "744a55da8227405e8174b3e42cfbc82d",
            "907214e569134eb192eede672db5afde",
            "57f1c6e329bc4b0ab08ade758e56f27f",
            "7267f127aef84d0f926795ba1ecb692f",
            "d646bfd94d874007aafb67cbdcd11fa4",
            "84a4044661a24276b4c7e2153793c1d6",
            "ba78bb1d4c4a469ba279e0fbb3819a08",
            "26f2d385086944d490a8b15020da800e",
            "6b9a7273d9f6417bb285165fb54b5a6f",
            "33bac908a3fc4f5b85bd93936c486d9b",
            "73be02d643e44faab6b856a610862654"
          ]
        },
        "outputId": "ca9f3b61-8fba-4eda-b9bf-0d989e8a2f65"
      },
      "execution_count": 79,
      "outputs": [
        {
          "output_type": "stream",
          "name": "stdout",
          "text": [
            "MultilayerPerceptron(\n",
            "  (fc1): Linear(in_features=12, out_features=30, bias=True)\n",
            "  (relu): ReLU()\n",
            "  (fc2): Linear(in_features=30, out_features=1, bias=True)\n",
            ")\n"
          ]
        },
        {
          "output_type": "display_data",
          "data": {
            "text/plain": [
              "  0%|          | 0/10000 [00:00<?, ?it/s]"
            ],
            "application/vnd.jupyter.widget-view+json": {
              "version_major": 2,
              "version_minor": 0,
              "model_id": "744a55da8227405e8174b3e42cfbc82d"
            }
          },
          "metadata": {}
        }
      ]
    },
    {
      "cell_type": "code",
      "source": [],
      "metadata": {
        "id": "exQeqpxDJYD9"
      },
      "execution_count": null,
      "outputs": []
    },
    {
      "cell_type": "markdown",
      "source": [
        "Complete model evaluation on the test data, i.e. perform a forward pass using test data, and compute MSE."
      ],
      "metadata": {
        "id": "q2WZUHbT-EcU"
      }
    },
    {
      "cell_type": "code",
      "source": [
        "# Testing\n",
        "# Use test data to evaluate performance\n",
        "data=torch.tensor(X_test.copy()).float()\n",
        "label=torch.tensor(y_test.copy()).float()\n",
        "\n",
        "# Set the model to evaluation mode\n",
        "model.eval()\n",
        "\n",
        "# Perform a forward pass using the test data\n",
        "with torch.no_grad():\n",
        "    prediction_test = model(data)\n",
        "    # Compute MSE loss on the test data\n",
        "    loss_test = loss_criterion(label, prediction_test)\n",
        "\n",
        "print(\"MSE Loss on Test Data: %.4f\" % loss_test.item())\n"
      ],
      "metadata": {
        "colab": {
          "base_uri": "https://localhost:8080/"
        },
        "id": "8UNid5zcKoyy",
        "outputId": "1418c58c-65e9-484a-b7e8-6106680309c9"
      },
      "execution_count": 80,
      "outputs": [
        {
          "output_type": "stream",
          "name": "stdout",
          "text": [
            "MSE Loss on Test Data: 0.4827\n"
          ]
        }
      ]
    }
  ]
}